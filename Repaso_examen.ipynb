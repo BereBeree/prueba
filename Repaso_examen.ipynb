{
  "nbformat": 4,
  "nbformat_minor": 0,
  "metadata": {
    "colab": {
      "provenance": []
    },
    "kernelspec": {
      "name": "python3",
      "display_name": "Python 3"
    },
    "language_info": {
      "name": "python"
    }
  },
  "cells": [
    {
      "cell_type": "code",
      "source": [
        "import numpy as np\n",
        "\n",
        "fila = 5\n",
        "columna = 5\n",
        "asiento = np.zeros((fila,columna), dtype = int)\n",
        "precio_normal = 4000\n",
        "precio_semi = 5000\n",
        "precio_reclinable = 6000"
      ],
      "metadata": {
        "id": "A7DTcBeSsK_-"
      },
      "execution_count": 56,
      "outputs": []
    },
    {
      "cell_type": "code",
      "source": [
        "def mostrar_asientos():\n",
        "    for filas in range(fila):\n",
        "        for columnas in range(columna):\n",
        "            if asiento[filas][columnas] == 0:\n",
        "                print(\"[ ]\", end=\" \")\n",
        "            else:\n",
        "                print(\"[X]\", end=\" \")\n",
        "        print()\n",
        "    menu()"
      ],
      "metadata": {
        "id": "cdZr-UIysRZJ"
      },
      "execution_count": 6,
      "outputs": []
    },
    {
      "cell_type": "code",
      "source": [
        "def vender_boleto(fila, columna, tipo):\n",
        "  if asiento [fila][columna]== 0:\n",
        "    if tipo == 'N':\n",
        "      precio = 4000\n",
        "    elif tipo == 'S':\n",
        "      precio = 5000\n",
        "    elif tipo == 'R':\n",
        "      precio = 6000\n",
        "    else:\n",
        "      print('Tipo de asiento no válido')\n",
        "      vender_boleto()\n",
        "    asiento[fila][columna] = precio\n",
        "    print(f'Boleto vendido, el precio es {precio}')\n",
        "    menu()\n",
        "  else:\n",
        "    print('Boleto no disponible')\n",
        "\n"
      ],
      "metadata": {
        "id": "1uTUKOdRsS9L"
      },
      "execution_count": 63,
      "outputs": []
    },
    {
      "cell_type": "code",
      "source": [
        "def anular_venta(fila, columna):\n",
        "  if asiento[fila][columna] == 0:\n",
        "    print('Asiento se encuentra disponible, revise el número ingresado')\n",
        "    menu()\n",
        "  else:\n",
        "    asiento[fila][columna] = 0\n",
        "    print('¡Venta anulada con éxito!')\n",
        "    menu()"
      ],
      "metadata": {
        "id": "fAEmKMYKsUMc"
      },
      "execution_count": 66,
      "outputs": []
    },
    {
      "cell_type": "code",
      "source": [
        "def salir():\n",
        "  while False:\n",
        "    break"
      ],
      "metadata": {
        "id": "KvONZAwvsVdl"
      },
      "execution_count": 9,
      "outputs": []
    },
    {
      "cell_type": "code",
      "source": [
        "def mostrar_total_vendidos():\n",
        "  normal = 0\n",
        "  semi_reclinable = 0\n",
        "  reclinable = 0\n",
        "  total = 0\n",
        "\n",
        "  for filas in range(fila):\n",
        "    for columnas in range(columna):\n",
        "      if asiento[filas][columnas] == precio_normal:\n",
        "        normal+=1\n",
        "        total+= precio_normal\n",
        "      elif asiento[filas][columnas] == precio_semi:\n",
        "        semi_reclinable+=1\n",
        "        total+= precio_semi\n",
        "      elif asiento[filas][columnas] == precio_reclinable:\n",
        "        reclinable+=1\n",
        "        total+= precio_reclinable\n",
        "\n",
        "  print(f'Hay un total de {normal} asientos normales ${normal*precio_normal} .-')\n",
        "  print(f'Hay un total de {semi_reclinable} asientos semi reclinables ${semi_reclinable*precio_semi} ')\n",
        "  print(f'Hay un total de {reclinable} asientos reclinables ${reclinable*precio_reclinable}')\n",
        "  print(f'Dando un total de ${total}')\n"
      ],
      "metadata": {
        "id": "uJWOrSlbZRA4"
      },
      "execution_count": 61,
      "outputs": []
    },
    {
      "cell_type": "code",
      "execution_count": 64,
      "metadata": {
        "id": "6ePtdOkcoS24"
      },
      "outputs": [],
      "source": [
        "def menu():\n",
        "  print('A continuación se despliega el menú: ')\n",
        "  print('1.- Mostrar asientos')\n",
        "  print('2.- Vender Boleto')\n",
        "  print('3.- Anular venta')\n",
        "  print('4.- Mostrar total ventas')\n",
        "  print('0.- Salir')\n",
        "  opcion = int(input('Ingrese el número de la opción a elegir: '))\n",
        "\n",
        "  if opcion == 1:\n",
        "    mostrar_asientos()\n",
        "  elif opcion == 2:\n",
        "    fila = int(input('Ingrese el número de la fila: '))\n",
        "    columna = int(input('Ingrese el número de la columna: '))\n",
        "    tipo = str(input('Ingrese el tipo de asiento: ')).upper()\n",
        "    vender_boleto(fila-1, columna-1, tipo)\n",
        "  elif opcion == 3:\n",
        "    anular_venta()\n",
        "  elif opcion == 4:\n",
        "    mostrar_total_vendidos()\n",
        "  elif opcion == 0:\n",
        "    salir()\n",
        "  else:\n",
        "    print('Ingrese un número válido')\n",
        "    menu()"
      ]
    },
    {
      "cell_type": "code",
      "source": [
        "print('Bienvenido al buses BereBus')\n",
        "menu()"
      ],
      "metadata": {
        "colab": {
          "base_uri": "https://localhost:8080/"
        },
        "id": "sZ2pP7X2sZVQ",
        "outputId": "8af484e2-4541-4312-88de-68f2c0367007"
      },
      "execution_count": 65,
      "outputs": [
        {
          "name": "stdout",
          "output_type": "stream",
          "text": [
            "Bienvenido al buses BereBus\n",
            "A continuación se despliega el menú: \n",
            "1.- Mostrar asientos\n",
            "2.- Vender Boleto\n",
            "3.- Anular venta\n",
            "4.- Mostrar total ventas\n",
            "0.- Salir\n",
            "Ingrese el número de la opción a elegir: 2\n",
            "Ingrese el número de la fila: 4\n",
            "Ingrese el número de la columna: 4\n",
            "Ingrese el tipo de asiento: S\n",
            "Boleto vendido, el precio es 5000\n",
            "A continuación se despliega el menú: \n",
            "1.- Mostrar asientos\n",
            "2.- Vender Boleto\n",
            "3.- Anular venta\n",
            "4.- Mostrar total ventas\n",
            "0.- Salir\n",
            "Ingrese el número de la opción a elegir: 0\n"
          ]
        }
      ]
    },
    {
      "cell_type": "code",
      "source": [
        "asiento"
      ],
      "metadata": {
        "colab": {
          "base_uri": "https://localhost:8080/"
        },
        "id": "ckcP12R1XpQ2",
        "outputId": "cb05ff0b-bf25-4c80-dab6-599b9077456f"
      },
      "execution_count": 47,
      "outputs": [
        {
          "output_type": "execute_result",
          "data": {
            "text/plain": [
              "array([[5000,    0,    0,    0,    0],\n",
              "       [   0, 4000,    0,    0,    0],\n",
              "       [   0,    0, 6000,    0,    0],\n",
              "       [   0,    0,    0,    0,    0],\n",
              "       [   0,    0,    0,    0,    0]])"
            ]
          },
          "metadata": {},
          "execution_count": 47
        }
      ]
    },
    {
      "cell_type": "code",
      "source": [
        "mostrar_total_vendidos()"
      ],
      "metadata": {
        "colab": {
          "base_uri": "https://localhost:8080/"
        },
        "id": "GOFaNSi_dsrf",
        "outputId": "ab00ecae-a88b-4ecd-f821-d67430c83e14"
      },
      "execution_count": 62,
      "outputs": [
        {
          "output_type": "stream",
          "name": "stdout",
          "text": [
            "Hay un total de 1 asientos normales $4000 .-\n",
            "Hay un total de 1 asientos semi reclinables $5000 \n",
            "Hay un total de 1 asientos reclinables $6000\n",
            "Dando un total de $15000\n"
          ]
        }
      ]
    }
  ]
}